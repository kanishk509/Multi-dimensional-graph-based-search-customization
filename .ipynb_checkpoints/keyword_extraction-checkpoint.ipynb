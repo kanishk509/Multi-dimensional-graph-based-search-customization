{
 "cells": [
  {
   "cell_type": "code",
   "execution_count": 18,
   "metadata": {},
   "outputs": [],
   "source": [
    "import yake\n",
    "import sys\n",
    "from bs4 import BeautifulSoup\n",
    "from bs4.element import Comment\n",
    "import urllib.request\n",
    "import requests\n",
    "import time\n",
    "from IPy import IP\n",
    "from collections import defaultdict\n",
    "import itertools  #used to slice a dictionary\n",
    "\n",
    "import json\n",
    "import pickle\n",
    "\n",
    "from pprint import pprint"
   ]
  },
  {
   "cell_type": "code",
   "execution_count": 6,
   "metadata": {},
   "outputs": [],
   "source": [
    "#Functions used for extraction of text from the url provided\n",
    "\n",
    "def tag_visible(element):\n",
    "    if element.parent.name in ['style', 'script', 'head', 'meta', '[document]']:\n",
    "        return False\n",
    "    if isinstance(element, Comment):\n",
    "        return False\n",
    "    return True\n",
    "\n",
    "def text_from_html(body):\n",
    "    soup = BeautifulSoup(body, 'html.parser')\n",
    "    texts = soup.findAll(text=True)\n",
    "    visible_texts = filter(tag_visible, texts)  \n",
    "    return u\" \".join(t.strip() for t in visible_texts)\n",
    "\n",
    "def text_from_title(body):\n",
    "    soup = BeautifulSoup(body, 'html.parser')\n",
    "    title_text = soup.find('title').text\n",
    "    return title_text"
   ]
  },
  {
   "cell_type": "code",
   "execution_count": 57,
   "metadata": {},
   "outputs": [],
   "source": [
    "def keywordExtractor(url):\n",
    "    url = url.strip()\n",
    "    headers={'User-Agent': 'Mozilla/5.0'}\n",
    "    resp = requests.get(url, headers=headers, timeout=3) \n",
    "    if resp.status_code >= 300:\n",
    "        return {}\n",
    "    html = resp.text\n",
    "    text = text_from_html(html)\n",
    "    title_text = text_from_title(html).lower()\n",
    "    max_ngram_size = 1\n",
    "    simple_kwextractor = yake.KeywordExtractor(lan=\"en\", n = max_ngram_size, dedupLim=0.9, dedupFunc='seqm', windowsSize=1, top=20, features=None)\n",
    "    keywords = simple_kwextractor.extract_keywords(text)\n",
    "    title_keywords = simple_kwextractor.extract_keywords(title_text)\n",
    "    title_words = dict([(t[1], t[0]) for t in title_keywords])  #to swap the term and its score to get {term:score}\n",
    "    title_words = title_words.keys()\n",
    "    \n",
    "    keywords2 = []\n",
    "    for kw in keywords:\n",
    "        #since the order of term and score is reversed\n",
    "        if kw[1] in title_words:\n",
    "            kw2 = (kw[0]/4, kw[1])\n",
    "        else:\n",
    "            kw2 = kw\n",
    "        keywords2.append(kw2)   #should be inside for loop so that all words are appended\n",
    "    keywords2 = dict([(t[1], t[0]) for t in keywords2]) #to make a dictionary(as given in description) and also to reverse the order to {term:score}\n",
    "    return keywords2"
   ]
  },
  {
   "cell_type": "code",
   "execution_count": 8,
   "metadata": {},
   "outputs": [
    {
     "name": "stdout",
     "output_type": "stream",
     "text": [
      "{'http://localhost:8888/lab': {'scroll_dist': 0, 'time_spent': 27},\n",
      " 'https://codeforces.com/': {'scroll_dist': 1187.199951171875, 'time_spent': 6},\n",
      " 'https://github.com/kanishk509/Multi-dimensional-graph-based-search-customization': {'scroll_dist': 0,\n",
      "                                                                                      'time_spent': 8},\n",
      " 'https://stackoverflow.com/questions/2260446/how-to-iterate-through-dictionary-and-change-values': {'scroll_dist': 0,\n",
      "                                                                                                     'time_spent': 3},\n",
      " 'https://web.whatsapp.com/': {'scroll_dist': 0, 'time_spent': 4}}\n"
     ]
    }
   ],
   "source": [
    "# load new history created since last update\n",
    "\n",
    "path_history = './data/history.data'\n",
    "\n",
    "try:\n",
    "    with open(path_history, 'rb') as f:\n",
    "        history_dict = pickle.load(f)\n",
    "except:\n",
    "    history_dict = {}\n",
    "    \n",
    "pprint.pprint(history_dict)\n",
    "    \n",
    "# looks like: \n",
    "# {\n",
    "#     'http://localhost:8888/lab': {'scroll_dist': 0, 'time_spent': 27},\n",
    "    \n",
    "#     'https://codeforces.com/': {'scroll_dist': 1187.199951171875, 'time_spent': 6},\n",
    "    \n",
    "#     'https://github.com/kanishk509/Multi-dimensional-graph-based-search-customization': {'scroll_dist': 0,\n",
    "#                                                                                       'time_spent': 8},\n",
    "    \n",
    "#     'https://stackoverflow.com/questions/2260446/how-to-iterate-through-dictionary-and-change-values': {'scroll_dist': 0,\n",
    "#                                                                                                      'time_spent': 3},\n",
    "    \n",
    "#     'https://web.whatsapp.com/': {'scroll_dist': 0, 'time_spent': 4}\n",
    "# }"
   ]
  },
  {
   "cell_type": "code",
   "execution_count": 72,
   "metadata": {},
   "outputs": [],
   "source": [
    "# keywords database structure\n",
    "\n",
    "keyword_db = {\n",
    "    'python' : {\n",
    "        'score'    : 255.0, \n",
    "        'urls'     : ['https://docs.python.org/3/tutorial/index.html', ]\n",
    "    },\n",
    "}\n",
    "\n",
    "#load keywords database from file\n",
    "\n",
    "filename = \"./data/keyword_db.data\"\n",
    "\n",
    "# try:\n",
    "#     with open(filename, 'rb') as f:\n",
    "#         keyword_db = pickle.load(f)\n",
    "# except:\n",
    "#     keyword_db = {}\n"
   ]
  },
  {
   "cell_type": "code",
   "execution_count": 10,
   "metadata": {},
   "outputs": [],
   "source": [
    "# new keywords that we need to add as nodes/add edges for \n",
    "# in our clustering graph.\n",
    "\n",
    "# new_keywords_to_cluster = [['a', 'b'], ['c']]\n",
    "new_keywords_to_cluster = []"
   ]
  },
  {
   "cell_type": "code",
   "execution_count": 2,
   "metadata": {},
   "outputs": [
    {
     "ename": "NameError",
     "evalue": "name 'history_dict' is not defined",
     "output_type": "error",
     "traceback": [
      "\u001b[0;31m---------------------------------------------------------------------------\u001b[0m",
      "\u001b[0;31mNameError\u001b[0m                                 Traceback (most recent call last)",
      "\u001b[0;32m<ipython-input-2-8dc3820b7249>\u001b[0m in \u001b[0;36m<module>\u001b[0;34m\u001b[0m\n\u001b[1;32m      5\u001b[0m \u001b[0mscroll_n\u001b[0m\u001b[0;34m=\u001b[0m\u001b[0;36m0\u001b[0m\u001b[0;34m\u001b[0m\u001b[0;34m\u001b[0m\u001b[0m\n\u001b[1;32m      6\u001b[0m \u001b[0;34m\u001b[0m\u001b[0m\n\u001b[0;32m----> 7\u001b[0;31m \u001b[0;32mfor\u001b[0m \u001b[0murl\u001b[0m \u001b[0;32min\u001b[0m \u001b[0mhistory_dict\u001b[0m\u001b[0;34m:\u001b[0m\u001b[0;34m\u001b[0m\u001b[0;34m\u001b[0m\u001b[0m\n\u001b[0m\u001b[1;32m      8\u001b[0m     \u001b[0mtime\u001b[0m \u001b[0;34m=\u001b[0m \u001b[0mhistory_dict\u001b[0m\u001b[0;34m[\u001b[0m\u001b[0murl\u001b[0m\u001b[0;34m]\u001b[0m\u001b[0;34m[\u001b[0m\u001b[0;34m'time_spent'\u001b[0m\u001b[0;34m]\u001b[0m\u001b[0;34m\u001b[0m\u001b[0;34m\u001b[0m\u001b[0m\n\u001b[1;32m      9\u001b[0m     \u001b[0mscroll\u001b[0m \u001b[0;34m=\u001b[0m \u001b[0mhistory_dict\u001b[0m\u001b[0;34m[\u001b[0m\u001b[0murl\u001b[0m\u001b[0;34m]\u001b[0m\u001b[0;34m[\u001b[0m\u001b[0;34m'scroll_dist'\u001b[0m\u001b[0;34m]\u001b[0m\u001b[0;34m\u001b[0m\u001b[0;34m\u001b[0m\u001b[0m\n",
      "\u001b[0;31mNameError\u001b[0m: name 'history_dict' is not defined"
     ]
    }
   ],
   "source": [
    "# standardize time, scroll_dist and impute missing scroll distances\n",
    "total_time=0\n",
    "time_n=0\n",
    "total_scroll=0\n",
    "scroll_n=0\n",
    "\n",
    "for url in history_dict:\n",
    "    time = history_dict[url]['time_spent']\n",
    "    scroll = history_dict[url]['scroll_dist']\n",
    "    \n",
    "    avg_time += time\n",
    "    time_n += 1\n",
    "    if scroll>2.0:\n",
    "        total_scroll += scroll\n",
    "        scroll_n += 1\n",
    "        \n",
    "avg_time = total_time/time_n\n",
    "avg_scroll = total_scroll/scroll_n\n",
    "\n",
    "for url in history_dict:\n",
    "    if history_dict[url]['scroll_dist']<2.0:\n",
    "        history_dict[url]['scroll_dist'] = avg_scroll * history_dict[url]['time_spent'] / avg_time"
   ]
  },
  {
   "cell_type": "code",
   "execution_count": 51,
   "metadata": {},
   "outputs": [],
   "source": [
    "def update_score(relevance_feedback):\n",
    "    score_matrix = {\n",
    "        'time_score' : 1.0, \n",
    "        'scroll_score' : 0.001,\n",
    "    }\n",
    "    \n",
    "    increment_score = (relevance_feedback['time_spent'] * score_matrix['time_score'] +\n",
    "                              relevance_feedback['scroll_dist'] * score_matrix['scroll_score'])\n",
    "    \n",
    "    return increment_score\n",
    "\n",
    "    "
   ]
  },
  {
   "cell_type": "code",
   "execution_count": 73,
   "metadata": {},
   "outputs": [],
   "source": [
    "def process_new_history(history_dict):\n",
    "    \n",
    "    for url in history_dict:\n",
    "        \n",
    "        if url_scroll == 0:\n",
    "            # some default value\n",
    "            url_scroll = 100.0\n",
    "\n",
    "#         try:\n",
    "        # taking 5 most significant keywords\n",
    "        keywords_list = keywordExtractor(url).items()\n",
    "        keywords_list = sorted(keywords_list, key=lambda key: key[1])\n",
    "        keywords_list = keywords_list[:5]\n",
    "\n",
    "        print(url)\n",
    "        pprint(keywords_list)\n",
    "\n",
    "        # add keywords to be clustered\n",
    "        new_keywords_to_cluster.append(\n",
    "            [word for (word, value) in keywords_list])\n",
    "\n",
    "        relevance_feedback = history_dict[url]\n",
    "\n",
    "        # make new entry for keyword in keyword_db \n",
    "        # or if already present: \n",
    "        #    1) update score\n",
    "        #    2) add url to the keyword's list of urls\n",
    "\n",
    "        for (word, value) in keywords_list:\n",
    "            if word in keyword_db:\n",
    "                keyword_db[word]['score'] += update_score(relevance_feedback)\n",
    "                if url not in keyword_db[word]['urls']:\n",
    "                    keyword_db[word]['urls'].append(url)\n",
    "            else:\n",
    "                keyword_db[word] = {}\n",
    "                keyword_db[word]['score'] = update_score(relevance_feedback)\n",
    "                keyword_db[word]['urls'] = [url]\n",
    "\n",
    "                \n",
    "#         except:\n",
    "#             continue\n",
    "    "
   ]
  },
  {
   "cell_type": "code",
   "execution_count": 74,
   "metadata": {},
   "outputs": [
    {
     "name": "stdout",
     "output_type": "stream",
     "text": [
      "https://stackoverflow.com/questions/2260446/how-to-iterate-through-dictionary-and-change-values\n",
      "[('dictionary', 0.0009784966379901092),\n",
      " ('stack', 0.0015192530969951078),\n",
      " ('overflow', 0.0038196002472170292),\n",
      " ('change', 0.008951077848351507),\n",
      " ('badges', 0.011680473762886128)]\n",
      "https://github.com/kanishk509/Multi-dimensional-graph-based-search-customization\n",
      "[]\n",
      "http://localhost:8888/lab\n",
      "[('jupyter', 0.03100563274736592),\n",
      " ('notebook', 0.03253898377029499),\n",
      " ('password', 0.0644696909526585),\n",
      " ('token', 0.08435933368377217),\n",
      " ('log', 0.1979570002394073)]\n",
      "https://web.whatsapp.com/\n",
      "[('web', 0.013353771275395145),\n",
      " ('whatsapp', 0.022974102739636657),\n",
      " ('macos', 0.05972433761971365),\n",
      " ('google', 0.06628774686171769),\n",
      " ('microsoft', 0.06628774686171769)]\n",
      "https://codeforces.com/\n",
      "[('codeforces', 0.000460017448542733),\n",
      " ('round', 0.0013319326760239207),\n",
      " ('problems', 0.008695863299493251),\n",
      " ('div', 0.010212130226036427),\n",
      " ('announcement', 0.010444728571151902)]\n"
     ]
    }
   ],
   "source": [
    "process_new_history(history_dict)"
   ]
  },
  {
   "cell_type": "code",
   "execution_count": 61,
   "metadata": {},
   "outputs": [
    {
     "name": "stdout",
     "output_type": "stream",
     "text": [
      "{'https://stackoverflow.com/questions/2260446/how-to-iterate-through-dictionary-and-change-values': {'time_spent': 3, 'scroll_dist': 0}, 'https://github.com/kanishk509/Multi-dimensional-graph-based-search-customization': {'time_spent': 8, 'scroll_dist': 0}, 'http://localhost:8888/lab': {'time_spent': 27, 'scroll_dist': 0}, 'https://web.whatsapp.com/': {'time_spent': 4, 'scroll_dist': 0}, 'https://codeforces.com/': {'time_spent': 6, 'scroll_dist': 1187.199951171875}}\n"
     ]
    }
   ],
   "source": [
    "print(history_dict)"
   ]
  },
  {
   "cell_type": "code",
   "execution_count": 36,
   "metadata": {},
   "outputs": [],
   "source": [
    "# save keywords to cluster\n",
    "with open('./data/to_cluster.data', 'wb') as outfile:\n",
    "    pickle.dump(new_keywords_to_cluster, outfile)"
   ]
  },
  {
   "cell_type": "code",
   "execution_count": 37,
   "metadata": {},
   "outputs": [],
   "source": [
    "# save keywords database\n",
    "with open('./data/keyword_db.data', 'wb') as outfile:\n",
    "    pickle.dump(keyword_db, outfile)"
   ]
  },
  {
   "cell_type": "code",
   "execution_count": 75,
   "metadata": {},
   "outputs": [
    {
     "name": "stdout",
     "output_type": "stream",
     "text": [
      "{'announcement': {'score': 24343.9990234375,\n",
      "                  'urls': ['https://codeforces.com/']},\n",
      " 'badges': {'score': 300.0,\n",
      "            'urls': ['https://stackoverflow.com/questions/2260446/how-to-iterate-through-dictionary-and-change-values']},\n",
      " 'change': {'score': 300.0,\n",
      "            'urls': ['https://stackoverflow.com/questions/2260446/how-to-iterate-through-dictionary-and-change-values']},\n",
      " 'codeforces': {'score': 24343.9990234375, 'urls': ['https://codeforces.com/']},\n",
      " 'dictionary': {'score': 300.0,\n",
      "                'urls': ['https://stackoverflow.com/questions/2260446/how-to-iterate-through-dictionary-and-change-values']},\n",
      " 'div': {'score': 24343.9990234375, 'urls': ['https://codeforces.com/']},\n",
      " 'google': {'score': 400.0, 'urls': ['https://web.whatsapp.com/']},\n",
      " 'jupyter': {'score': 2700.0, 'urls': ['http://localhost:8888/lab']},\n",
      " 'log': {'score': 2700.0, 'urls': ['http://localhost:8888/lab']},\n",
      " 'macos': {'score': 400.0, 'urls': ['https://web.whatsapp.com/']},\n",
      " 'microsoft': {'score': 400.0, 'urls': ['https://web.whatsapp.com/']},\n",
      " 'notebook': {'score': 2700.0, 'urls': ['http://localhost:8888/lab']},\n",
      " 'overflow': {'score': 300.0,\n",
      "              'urls': ['https://stackoverflow.com/questions/2260446/how-to-iterate-through-dictionary-and-change-values']},\n",
      " 'password': {'score': 2700.0, 'urls': ['http://localhost:8888/lab']},\n",
      " 'problems': {'score': 24343.9990234375, 'urls': ['https://codeforces.com/']},\n",
      " 'python': {'score': 255.0,\n",
      "            'urls': ['https://docs.python.org/3/tutorial/index.html']},\n",
      " 'round': {'score': 24343.9990234375, 'urls': ['https://codeforces.com/']},\n",
      " 'stack': {'score': 300.0,\n",
      "           'urls': ['https://stackoverflow.com/questions/2260446/how-to-iterate-through-dictionary-and-change-values']},\n",
      " 'token': {'score': 2700.0, 'urls': ['http://localhost:8888/lab']},\n",
      " 'web': {'score': 400.0, 'urls': ['https://web.whatsapp.com/']},\n",
      " 'whatsapp': {'score': 400.0, 'urls': ['https://web.whatsapp.com/']}}\n"
     ]
    }
   ],
   "source": [
    "pprint(keyword_db)"
   ]
  },
  {
   "cell_type": "code",
   "execution_count": null,
   "metadata": {},
   "outputs": [],
   "source": []
  }
 ],
 "metadata": {
  "kernelspec": {
   "display_name": "Python 3",
   "language": "python",
   "name": "python3"
  },
  "language_info": {
   "codemirror_mode": {
    "name": "ipython",
    "version": 3
   },
   "file_extension": ".py",
   "mimetype": "text/x-python",
   "name": "python",
   "nbconvert_exporter": "python",
   "pygments_lexer": "ipython3",
   "version": "3.8.2"
  }
 },
 "nbformat": 4,
 "nbformat_minor": 4
}
