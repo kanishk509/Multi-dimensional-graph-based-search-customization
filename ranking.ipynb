{
 "cells": [
  {
   "cell_type": "code",
   "execution_count": 13,
   "metadata": {},
   "outputs": [],
   "source": [
    "import selenium as se\n",
    "from selenium import webdriver\n",
    "from selenium.webdriver.common.keys import Keys\n",
    "from nltk import tokenize\n",
    "from time import sleep\n",
    "from parsel import Selector\n",
    "import csv\n",
    "import pandas as pd\n",
    "from keyword_extractor import *\n",
    "import requests\n",
    "from bs4 import BeautifulSoup\n",
    "from pprint import pprint\n"
   ]
  },
  {
   "cell_type": "code",
   "execution_count": 14,
   "metadata": {},
   "outputs": [],
   "source": [
    "# driver = webdriver.Chrome(\"chrome_driver/chromedriver_linux64/chromedriver\")\n",
    "\n",
    "# driver.get('https://duckduckgo.com/')\n",
    "# #driver.maximize_window()\n",
    "# driver.minimize_window()\n",
    "# sleep(1)"
   ]
  },
  {
   "cell_type": "code",
   "execution_count": 15,
   "metadata": {},
   "outputs": [],
   "source": [
    "def retrieve_top_urls(driver):\n",
    "    #list to store top 10 retrieved urls\n",
    "    retrieved_urls = []\n",
    "    \n",
    "    #get url for top 10 results\n",
    "    for i in range(10):\n",
    "        path = \"//div[@id=\\'r1-\" + str(i) + \"\\']/div/h2/a[@class=\\'result__a\\']\"\n",
    "        link = driver.find_element_by_xpath(path)\n",
    "        url = link.get_attribute('href')\n",
    "        retrieved_urls.append(url)\n",
    "        \n",
    "    return retrieved_urls"
   ]
  },
  {
   "cell_type": "code",
   "execution_count": 16,
   "metadata": {},
   "outputs": [],
   "source": [
    "def execute_query(query, driver):\n",
    "    # locate search form by_name\n",
    "    driver.find_element_by_name('q').clear()\n",
    "    search_query = driver.find_element_by_name('q')\n",
    "\n",
    "    # send_keys() to simulate the search text key strokes\n",
    "    search_query.send_keys(query)\n",
    "    sleep(1)\n",
    "\n",
    "    # .send_keys() to simulate the return key \n",
    "    search_query.send_keys(Keys.RETURN)\n",
    "    sleep(2)\n",
    "    \n",
    "    retrieved_urls = retrieve_top_urls(driver)\n",
    "    \n",
    "    return retrieved_urls"
   ]
  },
  {
   "cell_type": "code",
   "execution_count": 17,
   "metadata": {},
   "outputs": [],
   "source": [
    "def process_query(query):\n",
    "    \n",
    "    driver = webdriver.Chrome(\"chrome_driver/chromedriver_linux64/chromedriver\")\n",
    "\n",
    "    driver.get('https://duckduckgo.com/')\n",
    "    #driver.maximize_window()\n",
    "    driver.minimize_window()\n",
    "    sleep(1)\n",
    "\n",
    "    print(\"Query: \" + query + '\\n')\n",
    "    \n",
    "    #get initial rankings for the query\n",
    "    print(\"Initial rankings\")\n",
    "    initial_ranks = execute_query(query, driver)\n",
    "    for rank, url in enumerate(initial_ranks):\n",
    "        print('Rank ' + str(rank + 1) + ': ' + str(url) + '\\n')\n",
    "        \n",
    "    merged_keywords = set([])\n",
    "        \n",
    "    #extract top keywords from the retrieved urls\n",
    "    #print('Keywords Dictionary')\n",
    "    \n",
    "    for url in initial_ranks:\n",
    "        keywords = keywordExtractor(url, 10)\n",
    "        print(str(keywords) + '\\n')\n",
    "        \n",
    "        #combined list for keywords from all retrieved pages\n",
    "        for keyword in keywords:\n",
    "            merged_keywords.add(keyword)\n",
    "            \n",
    "    print('Merged Keywords from all urls')\n",
    "    print(merged_keywords)\n",
    "        \n",
    "    print('------------------------------------------------------------------------------------------------------------------')\n",
    "    print('\\n')\n",
    "    \n",
    "    driver.close()\n",
    "    \n",
    "    return initial_ranks, merged_keywords"
   ]
  },
  {
   "cell_type": "code",
   "execution_count": null,
   "metadata": {},
   "outputs": [],
   "source": [
    "# f = open('queries.txt', 'r')\n",
    "# queries = f.read().split('\\n')\n",
    "\n",
    "# for query in queries:\n",
    "#     process_query(query)"
   ]
  },
  {
   "cell_type": "code",
   "execution_count": 19,
   "metadata": {},
   "outputs": [],
   "source": [
    "# keywords database structure\n",
    "\n",
    "# keyword_db = {\n",
    "#     'python' : {\n",
    "#         'score'    : 255.0, \n",
    "#         'urls'     : ['https://docs.python.org/3/tutorial/index.html', ]\n",
    "#     },\n",
    "# }\n",
    "\n",
    "#load keywords database from file\n",
    "\n",
    "filename = \"./data/keyword_db.data\"\n",
    "\n",
    "with open(filename, 'rb') as f:\n",
    "    keyword_db = pickle.load(f)\n"
   ]
  },
  {
   "cell_type": "code",
   "execution_count": 20,
   "metadata": {},
   "outputs": [],
   "source": [
    "# load clustering\n",
    "\n",
    "filename = \"./data/partition.data\"\n",
    "\n",
    "with open(filename, 'rb') as f:\n",
    "    partition = pickle.load(f)\n"
   ]
  },
  {
   "cell_type": "code",
   "execution_count": 21,
   "metadata": {},
   "outputs": [],
   "source": [
    "clusters = {}\n",
    "\n",
    "for word in partition:\n",
    "    i_cluster = partition[word]\n",
    "    word_score = keyword_db[word]['score']\n",
    "    if i_cluster not in clusters:\n",
    "        clusters[i_cluster] = {\n",
    "            'cluster_score' : word_score, \n",
    "            'cluster_size' : 1, \n",
    "            'words' : [word]\n",
    "        }\n",
    "    else:\n",
    "        clusters[i_cluster]['cluster_score'] += word_score\n",
    "        clusters[i_cluster]['cluster_size'] += 1\n",
    "        clusters[i_cluster]['words'].append(word)"
   ]
  },
  {
   "cell_type": "code",
   "execution_count": 23,
   "metadata": {},
   "outputs": [
    {
     "name": "stdout",
     "output_type": "stream",
     "text": [
      "Query: nasdaq market\n",
      "\n",
      "Initial rankings\n",
      "Rank 1: https://www.nasdaq.com/\n",
      "\n",
      "Rank 2: https://money.cnn.com/data/markets/\n",
      "\n",
      "Rank 3: https://www.marketwatch.com/investing/index/comp\n",
      "\n",
      "Rank 4: https://www.nasdaq.com/market-activity/indexes\n",
      "\n",
      "Rank 5: https://www.nasdaq.com/authors/the-market-intelligence-desk-team\n",
      "\n",
      "Rank 6: https://www.nasdaq.com/news-and-insights/markets\n",
      "\n",
      "Rank 7: https://www.nasdaq.com/about\n",
      "\n",
      "Rank 8: https://www.marketwatch.com/investing/nasdaq-stock-market\n",
      "\n",
      "Rank 9: http://www.nasdaqtrader.com/Trader.aspx?id=TradingUSEquities\n",
      "\n",
      "Rank 10: https://www.investopedia.com/terms/n/nasdaq-smallcap-market.asp\n",
      "\n",
      "{'data': 0.002271059982625813, 'nasdaq': 0.003760253085110521, 'market': 0.0038237432647749534, 'commodities': 0.015744093100007895, 'var': 0.018432677503803816, 'republic': 0.021103897422225498, 'quotes': 0.02127410957887517, 'calendar': 0.022034695898317212, 'solutions': 0.022034695898317212, 'islands': 0.022734389975619978}\n",
      "\n",
      "{'updated': 0.010775619890632157, 'dow': 0.007507719388063435, 'corp': 0.032625490212714506, 'nasdaq': 0.008437571111829535, 'world': 0.03688913686904194, 'partner': 0.03761440723899494, 'jones': 0.009718915226774212, 'paid': 0.03975945480561575, 'cnn': 0.04342873622362325, 'oil': 0.04804648574110425}\n",
      "\n",
      "{}\n",
      "\n",
      "{'published': 0.008296589357766771, 'technology': 0.009655049747832493, 'days': 0.01434851502017758, 'indexes': 0.00371552592459565, 'nasdaq': 0.004334248236915668, 'var': 0.018650339217461048, 'activity': 0.018770045587235717, 'quotes': 0.02088337076952909, 'ago': 0.02112271084725885, 'markets': 0.005385119933704631}\n",
      "\n",
      "{'market': 0.0015393593975437064, 'data': 0.008249310534125852, 'nasdaq': 0.0020665971027863032, 'published': 0.009309193873896983, 'intelligence': 0.0024151629273666503, 'desk': 0.0025066741786802676, 'markets': 0.01101857252978653, 'commodities': 0.012363748935066896, 'jan': 0.01333412420734778, 'var': 0.017401618784156934}\n",
      "\n",
      "{'apr': 0.004648748904130969, 'markets': 0.0016986486555610946, 'published': 0.007779198560631382, 'ago': 0.009472281739750116, 'hours': 0.009485697187253613, 'report': 0.011597724123524734, 'data': 0.0120168354662341, 'nasdaq': 0.003152764354307671, 'earnings': 0.014119159927428224, 'market': 0.014206879664692793}\n",
      "\n",
      "{'nasdaq': 0.0021528590182523484, 'commodities': 0.011831746298639293, 'var': 0.015931918866147685, 'activity': 0.016148615879010408, 'quotes': 0.01722901348512527, 'calendar': 0.01758945142827917, 'market': 0.017771618711116963, 'islands': 0.020472275726741224, 'markets': 0.02073355516296979, 'republic': 0.02090471062481093}\n",
      "\n",
      "{'stock': 0.0024987296665750277, 'market': 0.003337721206701501, 'screener': 0.014647929574752722, 'nasdaq': 0.004192633469136318, 'calendar': 0.018236068366081062, 'china': 0.021383211911315186, 'retirement': 0.025071668506879474, 'barron': 0.027009130879021535, 'mutual': 0.03174708752117228, 'coffee': 0.03328022944378215}\n",
      "\n",
      "{'nasdaq': 0.0004590488959133663, 'alerts': 0.0021943287850672397, 'data': 0.003732283573514738, 'market': 0.000999013437767358, 'fixed': 0.004385739219053258, 'income': 0.004737044952393765, 'futures': 0.006073417349289491, 'network': 0.008536369432181362, 'psx': 0.00881322845476787, 'phlx': 0.008838386631855858}\n",
      "\n",
      "{'trading': 0.0028733700418145758, 'nasdaq': 0.0010289296744087969, 'market': 0.0014573624739234855, 'capital': 0.0017157338450934775, 'management': 0.009412165358619223, 'education': 0.012721349732630362, 'beginners': 0.018155543474111482, 'game': 0.018840263174736267, 'simulator': 0.0191822146773782, 'financial': 0.019523871056840027}\n",
      "\n",
      "Merged Keywords from all urls\n",
      "{'nasdaq', 'report', 'beginners', 'partner', 'simulator', 'activity', 'alerts', 'financial', 'data', 'world', 'jones', 'technology', 'market', 'game', 'stock', 'ago', 'network', 'income', 'calendar', 'markets', 'phlx', 'updated', 'jan', 'oil', 'management', 'dow', 'intelligence', 'islands', 'hours', 'corp', 'published', 'indexes', 'var', 'cnn', 'retirement', 'days', 'futures', 'mutual', 'barron', 'trading', 'quotes', 'apr', 'capital', 'coffee', 'desk', 'earnings', 'republic', 'commodities', 'psx', 'china', 'solutions', 'education', 'paid', 'screener', 'fixed'}\n",
      "------------------------------------------------------------------------------------------------------------------\n",
      "\n",
      "\n"
     ]
    }
   ],
   "source": [
    "# query and getting merged keywords\n",
    "\n",
    "query = 'nasdaq market'\n",
    "initial_ranks, merged_keywords = process_query(query)"
   ]
  },
  {
   "cell_type": "code",
   "execution_count": 28,
   "metadata": {},
   "outputs": [
    {
     "data": {
      "text/plain": [
       "['https://www.nasdaq.com/',\n",
       " 'https://money.cnn.com/data/markets/',\n",
       " 'https://www.marketwatch.com/investing/index/comp',\n",
       " 'https://www.nasdaq.com/market-activity/indexes',\n",
       " 'https://www.nasdaq.com/authors/the-market-intelligence-desk-team',\n",
       " 'https://www.nasdaq.com/news-and-insights/markets',\n",
       " 'https://www.nasdaq.com/about',\n",
       " 'https://www.marketwatch.com/investing/nasdaq-stock-market',\n",
       " 'http://www.nasdaqtrader.com/Trader.aspx?id=TradingUSEquities',\n",
       " 'https://www.investopedia.com/terms/n/nasdaq-smallcap-market.asp']"
      ]
     },
     "execution_count": 28,
     "metadata": {},
     "output_type": "execute_result"
    }
   ],
   "source": [
    "initial_ranks"
   ]
  },
  {
   "cell_type": "code",
   "execution_count": 25,
   "metadata": {},
   "outputs": [
    {
     "name": "stdout",
     "output_type": "stream",
     "text": [
      "['stocks', 'stock', 'market', 'ago', 'apr.', 'screener', 'updated', 'apr', 'wed', 'politics', 'essentials', 'investing', 'trading', 'management']\n"
     ]
    }
   ],
   "source": [
    "# finding best matching cluster\n",
    "\n",
    "cluster_scores = {}\n",
    "\n",
    "max_score = 0\n",
    "best_matching_cluster_id = -1\n",
    "\n",
    "for word in merged_keywords:\n",
    "    if word in partition: \n",
    "        word_score = keyword_db[word]['score']\n",
    "        i_cluster = partition[word]\n",
    "        if i_cluster not in cluster_scores:\n",
    "            cluster_scores[i_cluster] = word_score\n",
    "        else:\n",
    "            cluster_scores[i_cluster] += word_score\n",
    "            \n",
    "        if(cluster_scores[i_cluster] > max_score):\n",
    "            best_matching_cluster_id = i_cluster\n",
    "            max_score = best_matching_cluster_id\n",
    "            \n",
    "\n",
    "best_matching_cluster = clusters[best_matching_cluster_id]['words']    \n",
    "print(best_matching_cluster)"
   ]
  },
  {
   "cell_type": "markdown",
   "metadata": {},
   "source": [
    "As we can see, it identifies the best cluster related to query 'nasdaq markets'. \n",
    "The chosen best cluster has all the terms related to stocks and markets."
   ]
  },
  {
   "cell_type": "code",
   "execution_count": 26,
   "metadata": {},
   "outputs": [],
   "source": [
    "def seed_score(rank):\n",
    "    #\n",
    "    #\n",
    "    return 0"
   ]
  },
  {
   "cell_type": "code",
   "execution_count": null,
   "metadata": {},
   "outputs": [],
   "source": [
    "url_scores = []\n",
    "\n",
    "# score urls\n",
    "for i in range(len(initial_ranks)):\n",
    "\n",
    "    score = seed_score(i)\n",
    "    \n",
    "    url = initial_ranks[i]\n",
    "    #print(url)\n",
    "    \n",
    "    headers={'User-Agent': 'Mozilla/5.0'}\n",
    "    \n",
    "    tries = 5\n",
    "    while tries>0 :\n",
    "        try:\n",
    "            res = requests.get(url, headers=headers, timeout=3)\n",
    "            tries = 0\n",
    "        except:\n",
    "            tries -= 1\n",
    "    html_page = res.content\n",
    "    \n",
    "    soup = BeautifulSoup(html_page, 'html.parser')\n",
    "    text = soup.find_all(text=True)\n",
    "\n",
    "    soup = BeautifulSoup(html_page, 'html.parser')\n",
    "    text = soup.find_all(text=True)\n",
    "\n",
    "    page_text = ''\n",
    "    blacklist = [\n",
    "        '[document]',\n",
    "        'noscript',\n",
    "        'header',\n",
    "        'html',\n",
    "        'meta',\n",
    "        'head', \n",
    "        'input',\n",
    "        'script',\n",
    "        # there may be more elements you don't want, such as \"style\", etc.\n",
    "    ]\n",
    "\n",
    "    for t in text:\n",
    "        if t.parent.name not in blacklist:\n",
    "            page_text += '{} '.format(t)\n",
    "            \n",
    "    \n",
    "    for word in best_matching_cluster:\n",
    "        cnt = page_text.count(word)\n",
    "        score += cnt * keyword_db[word]['score']\n",
    "        \n",
    "    url_scores.append((url, score))\n",
    "    \n",
    "\n",
    "# sort urls based on scores\n",
    "\n",
    "url_scores = sorted(url_scores, key=lambda pair: pair[1], reverse=True)"
   ]
  },
  {
   "cell_type": "code",
   "execution_count": 63,
   "metadata": {},
   "outputs": [
    {
     "name": "stdout",
     "output_type": "stream",
     "text": [
      "Rank  1  :  ('https://www.marketwatch.com/investing/nasdaq-stock-market', 10722.780811664628)\n",
      "Rank  2  :  ('https://www.investopedia.com/terms/n/nasdaq-smallcap-market.asp', 1570.1317290156721)\n",
      "Rank  3  :  ('https://www.nasdaq.com/authors/the-market-intelligence-desk-team', 1055.9988964431948)\n",
      "Rank  4  :  ('https://money.cnn.com/data/markets/', 1048.1574068559394)\n",
      "Rank  5  :  ('https://www.nasdaq.com/about', 1009.7156984127919)\n",
      "Rank  6  :  ('https://www.nasdaq.com/news-and-insights/markets', 933.8417011189289)\n",
      "Rank  7  :  ('https://www.nasdaq.com/market-activity/indexes', 607.2179579019202)\n",
      "Rank  8  :  ('http://www.nasdaqtrader.com/Trader.aspx?id=TradingUSEquities', 476.16341346832644)\n",
      "Rank  9  :  ('https://www.nasdaq.com/', 240.279998046875)\n",
      "Rank  10  :  ('https://www.marketwatch.com/investing/index/comp', 165.28534369705386)\n"
     ]
    }
   ],
   "source": [
    "for rank in range(len(url_scores)):\n",
    "    print('Rank ', rank+1, ' : ', url_scores[rank])"
   ]
  },
  {
   "cell_type": "code",
   "execution_count": null,
   "metadata": {},
   "outputs": [],
   "source": []
  }
 ],
 "metadata": {
  "kernelspec": {
   "display_name": "Python 3",
   "language": "python",
   "name": "python3"
  },
  "language_info": {
   "codemirror_mode": {
    "name": "ipython",
    "version": 3
   },
   "file_extension": ".py",
   "mimetype": "text/x-python",
   "name": "python",
   "nbconvert_exporter": "python",
   "pygments_lexer": "ipython3",
   "version": "3.8.2"
  }
 },
 "nbformat": 4,
 "nbformat_minor": 4
}
