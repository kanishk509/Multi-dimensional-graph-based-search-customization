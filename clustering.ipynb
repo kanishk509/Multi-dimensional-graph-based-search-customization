{
 "cells": [
  {
   "cell_type": "code",
   "execution_count": 1,
   "metadata": {},
   "outputs": [],
   "source": [
    "import yake\n",
    "import sys\n",
    "from bs4 import BeautifulSoup\n",
    "from bs4.element import Comment\n",
    "import urllib.request\n",
    "import requests\n",
    "import time\n",
    "from IPy import IP\n",
    "from collections import defaultdict\n",
    "import itertools  #used to slice a dictionary\n",
    "import networkx as nx #networkx library for graph creation and clustering\n",
    "import matplotlib.pyplot as plt  "
   ]
  },
  {
   "cell_type": "code",
   "execution_count": 2,
   "metadata": {},
   "outputs": [],
   "source": [
    "#initialising our graph of keywords\n",
    "graph_keywords = nx.Graph()"
   ]
  },
  {
   "cell_type": "code",
   "execution_count": 3,
   "metadata": {},
   "outputs": [],
   "source": [
    "#Functions used for extraction of text from the url provided\n",
    "\n",
    "def tag_visible(element):\n",
    "    if element.parent.name in ['style', 'script', 'head', 'meta', '[document]']:\n",
    "        return False\n",
    "    if isinstance(element, Comment):\n",
    "        return False\n",
    "    return True\n",
    "\n",
    "def text_from_html(body):\n",
    "    soup = BeautifulSoup(body, 'html.parser')\n",
    "    texts = soup.findAll(text=True)\n",
    "    visible_texts = filter(tag_visible, texts)  \n",
    "    return u\" \".join(t.strip() for t in visible_texts)\n",
    "\n",
    "def text_from_title(body):\n",
    "    soup = BeautifulSoup(body, 'html.parser')\n",
    "    title_text = soup.find('title').text\n",
    "    return title_text"
   ]
  },
  {
   "cell_type": "code",
   "execution_count": 4,
   "metadata": {},
   "outputs": [],
   "source": [
    "def community_layout(g, partition):\n",
    "    # Compute the layout for a modular graph.\n",
    "    pos_communities = _position_communities(g, partition, scale=3.)\n",
    "\n",
    "    pos_nodes = _position_nodes(g, partition, scale=1.)\n",
    "\n",
    "    # combine positions\n",
    "    pos = dict()\n",
    "    for node in g.nodes():\n",
    "        pos[node] = pos_communities[node] + pos_nodes[node]\n",
    "\n",
    "    return pos"
   ]
  },
  {
   "cell_type": "code",
   "execution_count": 5,
   "metadata": {},
   "outputs": [],
   "source": [
    "def _position_communities(g, partition, **kwargs):\n",
    "\n",
    "    # create a weighted graph, in which each node corresponds to a community,\n",
    "    # and each edge weight to the number of edges between communities\n",
    "    between_community_edges = _find_between_community_edges(g, partition)\n",
    "\n",
    "    communities = set(partition.values())\n",
    "    hypergraph = nx.DiGraph()\n",
    "    hypergraph.add_nodes_from(communities)\n",
    "    for (ci, cj), edges in between_community_edges.items():\n",
    "        hypergraph.add_edge(ci, cj, weight=len(edges))\n",
    "\n",
    "    # find layout for communities\n",
    "    pos_communities = nx.spring_layout(hypergraph, **kwargs)\n",
    "\n",
    "    # set node positions to position of community\n",
    "    pos = dict()\n",
    "    for node, community in partition.items():\n",
    "        pos[node] = pos_communities[community]\n",
    "\n",
    "    return pos"
   ]
  },
  {
   "cell_type": "code",
   "execution_count": 6,
   "metadata": {},
   "outputs": [],
   "source": [
    "def _find_between_community_edges(g, partition):\n",
    "\n",
    "    edges = dict()\n",
    "\n",
    "    for (ni, nj) in g.edges():\n",
    "        ci = partition[ni]\n",
    "        cj = partition[nj]\n",
    "\n",
    "        if ci != cj:\n",
    "            try:\n",
    "                edges[(ci, cj)] += [(ni, nj)]\n",
    "            except KeyError:\n",
    "                edges[(ci, cj)] = [(ni, nj)]\n",
    "\n",
    "    return edges"
   ]
  },
  {
   "cell_type": "code",
   "execution_count": 7,
   "metadata": {},
   "outputs": [],
   "source": [
    "def _position_nodes(g, partition, **kwargs):\n",
    "\n",
    "    communities = dict()\n",
    "    for node, community in partition.items():\n",
    "        try:\n",
    "            communities[community] += [node]\n",
    "        except KeyError:\n",
    "            communities[community] = [node]\n",
    "\n",
    "    pos = dict()\n",
    "    for ci, nodes in communities.items():\n",
    "        subgraph = g.subgraph(nodes)\n",
    "        pos_subgraph = nx.spring_layout(subgraph, **kwargs)\n",
    "        pos.update(pos_subgraph)\n",
    "\n",
    "    return pos"
   ]
  },
  {
   "cell_type": "code",
   "execution_count": 8,
   "metadata": {},
   "outputs": [],
   "source": [
    "skip_domains = [\n",
    "    'www.mail.google.com',\n",
    "    'www.mail.yahoo.com',\n",
    "    'www.account.google.com',\n",
    "    'www.facebook.com',  \n",
    "    'www.docs.google.com'\n",
    "]\n",
    "\n",
    "def isIP(str):\n",
    "    try:\n",
    "        IP(str)\n",
    "    except ValueError:\n",
    "        return False\n",
    "    return True\n",
    "\n",
    "def generate_clean_urls():\n",
    "    url_file = open('urls.txt', 'r')\n",
    "    clean_urls = open('cleanUrls.txt', 'w')\n",
    "    for url in url_file.readlines():\n",
    "        url = url.strip()\n",
    "        spltAr = url.split(\"://\");\n",
    "        protocol = spltAr[0]\n",
    "        if protocol not in ['http', 'https']:\n",
    "            continue\n",
    "        i = (0,1)[len(spltAr)>1];\n",
    "        dm = spltAr[i].split(\"?\")[0].split('/')[0].split(':')[0].lower();\n",
    "        if dm[0:4] != 'www.':\n",
    "            # check if domain is ip address\n",
    "            if isIP(dm):\n",
    "                continue\n",
    "            dm = 'www.' + dm\n",
    "        # domain checks\n",
    "        if dm in skip_domains:\n",
    "            continue\n",
    "        clean_urls.write(url+'\\n')\n",
    "    url_file.close()\n",
    "    clean_urls.close()"
   ]
  },
  {
   "cell_type": "code",
   "execution_count": 9,
   "metadata": {},
   "outputs": [],
   "source": [
    "def keywordExtractor(url):\n",
    "    url = url.strip()\n",
    "    headers={'User-Agent': 'Mozilla/5.0'}\n",
    "    resp = requests.get(url, headers=headers, timeout=3) \n",
    "    if resp.status_code >= 300:\n",
    "        return\n",
    "    html = resp.text\n",
    "    text = text_from_html(html)\n",
    "    title_text = text_from_title(html).lower()\n",
    "    max_ngram_size = 1\n",
    "    simple_kwextractor = yake.KeywordExtractor(lan=\"en\", n = max_ngram_size, dedupLim=0.9, dedupFunc='seqm', windowsSize=1, top=20, features=None)\n",
    "    keywords = simple_kwextractor.extract_keywords(text)\n",
    "    title_keywords = simple_kwextractor.extract_keywords(title_text)\n",
    "    title_words = dict([(t[1], t[0]) for t in title_keywords])  #to swap the term and its score to get {term:score}\n",
    "    title_words = title_words.keys()\n",
    "    \n",
    "    keywords2 = []\n",
    "    for kw in keywords:\n",
    "        #since the order of term and score is reversed\n",
    "        if kw[1] in title_words:\n",
    "            kw2 = (kw[0]/4, kw[1])\n",
    "        else:\n",
    "            kw2 = kw\n",
    "        keywords2.append(kw2)   #should be inside for loop so that all words are appended\n",
    "    keywords2 = dict([(t[1], t[0]) for t in keywords2]) #to make a dictionary(as given in description) and also to reverse the order to {term:score}\n",
    "    return keywords2"
   ]
  },
  {
   "cell_type": "code",
   "execution_count": 10,
   "metadata": {},
   "outputs": [],
   "source": [
    "generate_clean_urls()"
   ]
  },
  {
   "cell_type": "code",
   "execution_count": 11,
   "metadata": {},
   "outputs": [],
   "source": [
    "#We extract 5 most important keywords from each url and add those as nodes in our graph with an edge existing for\n",
    "#every pair of keywords that co-occurs in a webpage.\n",
    "\n",
    "i = 0\n",
    "start_time = time.time()\n",
    "\n",
    "#to store keywords and the urls they are present in\n",
    "keywords_dict = {}\n",
    "\n",
    "url_file = open('cleanUrls.txt', 'r')\n",
    "\n",
    "for line in url_file.readlines():\n",
    "    i += 1\n",
    "    temp_dict = {}\n",
    "    try:\n",
    "        keywords = keywordExtractor(line)\n",
    "        for kw in keywords:\n",
    "            temp_dict[kw] = 1/keywords[kw]\n",
    "        temp_dict = dict(sorted(temp_dict.items(), key=lambda x: x[1], reverse = True))\n",
    "        temp_dict = dict(itertools.islice(temp_dict.items(), 5))  #to take only the top 5\n",
    "        for w in temp_dict:\n",
    "            if w in keywords_dict.keys():\n",
    "                keywords_dict[w].append(line)\n",
    "            else:\n",
    "                keywords_dict[w] = [line]\n",
    "                \n",
    "        graph_keywords.add_nodes_from(temp_dict.keys())\n",
    "                \n",
    "        for word_i in temp_dict.keys() :\n",
    "            for word_j in temp_dict.keys():\n",
    "                if word_j != word_i:\n",
    "                    graph_keywords.add_edge(word_i, word_j)\n",
    "        \n",
    "    except:\n",
    "        continue\n",
    "\n",
    "url_file.close()\n",
    "end_time = time.time()"
   ]
  },
  {
   "cell_type": "code",
   "execution_count": 12,
   "metadata": {},
   "outputs": [
    {
     "name": "stdout",
     "output_type": "stream",
     "text": [
      "python:\n",
      "https://www.python.org/\n",
      "\n",
      "https://machinelearningmastery.com/machine-learning-in-python-step-by-step/\n",
      "\n",
      "python.org:\n",
      "https://www.python.org/\n",
      "\n",
      "events:\n",
      "https://www.python.org/\n",
      "\n",
      "community:\n",
      "https://www.python.org/\n",
      "\n",
      "software:\n",
      "https://www.python.org/\n",
      "\n",
      "ultimate:\n",
      "https://en.wikipedia.org/wiki/Ultimate_(sport)\n",
      "\n",
      "disc:\n",
      "https://en.wikipedia.org/wiki/Ultimate_(sport)\n",
      "\n",
      "retrieved:\n",
      "https://en.wikipedia.org/wiki/Ultimate_(sport)\n",
      "\n",
      "https://en.wikipedia.org/wiki/Tennis\n",
      "\n",
      "frisbee:\n",
      "https://en.wikipedia.org/wiki/Ultimate_(sport)\n",
      "\n",
      "sport:\n",
      "https://en.wikipedia.org/wiki/Ultimate_(sport)\n",
      "\n",
      "learning:\n",
      "https://towardsdatascience.com/machine-learning-an-introduction-23b84d51e6d0\n",
      "\n",
      "https://machinelearningmastery.com/what-is-deep-learning/\n",
      "\n",
      "machine:\n",
      "https://towardsdatascience.com/machine-learning-an-introduction-23b84d51e6d0\n",
      "\n",
      "data:\n",
      "https://towardsdatascience.com/machine-learning-an-introduction-23b84d51e6d0\n",
      "\n",
      "science:\n",
      "https://towardsdatascience.com/machine-learning-an-introduction-23b84d51e6d0\n",
      "\n",
      "unsupervised:\n",
      "https://towardsdatascience.com/machine-learning-an-introduction-23b84d51e6d0\n",
      "\n",
      "deep:\n",
      "https://machinelearningmastery.com/what-is-deep-learning/\n",
      "\n",
      "jason:\n",
      "https://machinelearningmastery.com/what-is-deep-learning/\n",
      "\n",
      "https://machinelearningmastery.com/machine-learning-in-python-step-by-step/\n",
      "\n",
      "brownlee:\n",
      "https://machinelearningmastery.com/what-is-deep-learning/\n",
      "\n",
      "https://machinelearningmastery.com/machine-learning-in-python-step-by-step/\n",
      "\n",
      "reply:\n",
      "https://machinelearningmastery.com/what-is-deep-learning/\n",
      "\n",
      "https://machinelearningmastery.com/machine-learning-in-python-step-by-step/\n",
      "\n",
      "tennis:\n",
      "https://en.wikipedia.org/wiki/Tennis\n",
      "\n",
      "players:\n",
      "https://en.wikipedia.org/wiki/Tennis\n",
      "\n",
      "player:\n",
      "https://en.wikipedia.org/wiki/Tennis\n",
      "\n",
      "game:\n",
      "https://en.wikipedia.org/wiki/Tennis\n",
      "\n",
      "file:\n",
      "https://machinelearningmastery.com/machine-learning-in-python-step-by-step/\n",
      "\n"
     ]
    }
   ],
   "source": [
    "for i in keywords_dict.keys():\n",
    "    print(i, end= \":\\n\")\n",
    "    for ii in keywords_dict[i]:\n",
    "        print(ii)"
   ]
  },
  {
   "cell_type": "code",
   "execution_count": 13,
   "metadata": {},
   "outputs": [
    {
     "name": "stdout",
     "output_type": "stream",
     "text": [
      "time taken : \n",
      "17.08391809463501\n",
      "url processed : \n",
      "file\n"
     ]
    }
   ],
   "source": [
    "print('time taken : ')\n",
    "print(end_time - start_time)\n",
    "print('url processed : ')\n",
    "print(i)"
   ]
  },
  {
   "cell_type": "code",
   "execution_count": 14,
   "metadata": {},
   "outputs": [
    {
     "data": {
      "text/plain": [
       "NodeView(('python', 'python.org', 'events', 'community', 'software', 'ultimate', 'disc', 'retrieved', 'frisbee', 'sport', 'learning', 'machine', 'data', 'science', 'unsupervised', 'deep', 'jason', 'brownlee', 'reply', 'tennis', 'players', 'player', 'game', 'file'))"
      ]
     },
     "execution_count": 14,
     "metadata": {},
     "output_type": "execute_result"
    }
   ],
   "source": [
    "graph_keywords.nodes()"
   ]
  },
  {
   "cell_type": "code",
   "execution_count": 15,
   "metadata": {},
   "outputs": [],
   "source": [
    "#from networkx.algorithms import community\n",
    "import community\n",
    "\n",
    "clusters = community.best_partition(graph_keywords)\n",
    "pos = community_layout(graph_keywords, clusters)"
   ]
  },
  {
   "cell_type": "code",
   "execution_count": 16,
   "metadata": {
    "scrolled": false
   },
   "outputs": [
    {
     "name": "stderr",
     "output_type": "stream",
     "text": [
      "/home/ashutosh/anaconda3/lib/python3.7/site-packages/networkx/drawing/nx_pylab.py:579: MatplotlibDeprecationWarning: \n",
      "The iterable function was deprecated in Matplotlib 3.1 and will be removed in 3.3. Use np.iterable instead.\n",
      "  if not cb.iterable(width):\n"
     ]
    },
    {
     "data": {
      "image/png": "[encoded data removed]",
      "text/plain": [
       "<Figure size 432x288 with 1 Axes>"
      ]
     },
     "metadata": {},
     "output_type": "display_data"
    }
   ],
   "source": [
    "nx.draw(graph_keywords, pos, node_color=list(clusters.values()), node_size=2000, alpha = 0.5)\n",
    "\n",
    "labels = {}\n",
    "for word in keywords_dict.keys():\n",
    "    labels[word] = word\n",
    "nx.draw_networkx_labels(graph_keywords, pos, labels)\n",
    "\n",
    "plt.show()"
   ]
  },
  {
   "cell_type": "markdown",
   "metadata": {},
   "source": [
    "We can see that the keywords related to machine learning/deep learning/python were clustered together and the keywords related to sports (Ultimate frisbee and tennis) were clustered together."
   ]
  }
 ],
 "metadata": {
  "kernelspec": {
   "display_name": "Python 3",
   "language": "python",
   "name": "python3"
  },
  "language_info": {
   "codemirror_mode": {
    "name": "ipython",
    "version": 3
   },
   "file_extension": ".py",
   "mimetype": "text/x-python",
   "name": "python",
   "nbconvert_exporter": "python",
   "pygments_lexer": "ipython3",
   "version": "3.7.4"
  }
 },
 "nbformat": 4,
 "nbformat_minor": 4
}
